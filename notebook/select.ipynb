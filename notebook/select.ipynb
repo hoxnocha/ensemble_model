{
 "cells": [
  {
   "cell_type": "code",
   "execution_count": 2,
   "metadata": {},
   "outputs": [],
   "source": [
    "import collections\n",
    "import shutil\n",
    "import tempfile\n",
    "\n",
    "from pathlib import Path\n",
    "from typing import Tuple\n",
    "\n",
    "import matplotlib.pyplot as plt\n",
    "import numpy as np\n",
    "import pandas as pd\n",
    "import os\n",
    "import glob"
   ]
  },
  {
   "cell_type": "code",
   "execution_count": 16,
   "metadata": {},
   "outputs": [],
   "source": [
    "datafolder = Path(\"/home/students/tyang/airogs\")\n",
    "csv_path = Path(\"/home/students/tyang/airogs/train_labels.csv\")\n",
    "\n",
    "input_path = Path(\"/home/students/tyang/input/rg_images\")\n",
    "os.makedirs(input_path, exist_ok=True)"
   ]
  },
  {
   "cell_type": "code",
   "execution_count": 25,
   "metadata": {},
   "outputs": [
    {
     "name": "stdout",
     "output_type": "stream",
     "text": [
      "101442\n",
      "/home/students/tyang/airogs/5\n",
      "11442\n",
      "TRAIN095258.jpg\n",
      "11442\n",
      "11442\n",
      "329\n"
     ]
    }
   ],
   "source": [
    "df = pd.read_csv(csv_path)\n",
    "print(len(df))\n",
    "\n",
    "for i in range(5,6):\n",
    "    image_folder_path = datafolder / Path(str(i))\n",
    "    print(image_folder_path)\n",
    "    files = glob.glob1(image_folder_path, \"*.jpg\")\n",
    "    print(len(files))\n",
    "    print(files[0])\n",
    "    files = [os.path.basename(file)[:-4] for file in files]\n",
    "    print(len(files))\n",
    "    df = df[df[\"challenge_id\"].isin(files)]\n",
    "    print(len(df))\n",
    "    rg_df = df[df[\"class\"] == \"RG\"]\n",
    "    print(len(rg_df))\n",
    "\n",
    "    for index, row in rg_df.iterrows():\n",
    "        image_path = os.path.join(image_folder_path, row[\"challenge_id\"] + \".jpg\")\n",
    "        shutil.copy(image_path, input_path)\n",
    "        \n"
   ]
  }
 ],
 "metadata": {
  "kernelspec": {
   "display_name": "Python 3",
   "language": "python",
   "name": "python3"
  },
  "language_info": {
   "codemirror_mode": {
    "name": "ipython",
    "version": 3
   },
   "file_extension": ".py",
   "mimetype": "text/x-python",
   "name": "python",
   "nbconvert_exporter": "python",
   "pygments_lexer": "ipython3",
   "version": "3.10.13"
  }
 },
 "nbformat": 4,
 "nbformat_minor": 2
}
